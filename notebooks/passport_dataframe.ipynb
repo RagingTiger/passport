{
 "cells": [
  {
   "cell_type": "markdown",
   "id": "99a18e72-b81a-4f6c-9e00-3e9dc46077fd",
   "metadata": {},
   "source": [
    "# Exploring Passport DataFrame\n",
    "This notebook is intended to briefly show what is possible with the `passport_dataframe` function in the `passport.data` sub-package."
   ]
  },
  {
   "cell_type": "markdown",
   "id": "d0854799-9fa2-475a-ab5e-4c33bf035bff",
   "metadata": {},
   "source": [
    "## Getting Started\n",
    "We need to load the right libraries and download the necessary *passport data*."
   ]
  },
  {
   "cell_type": "code",
   "execution_count": null,
   "id": "11c4f90f-0bc8-4e5e-87a0-a9a2ca313369",
   "metadata": {},
   "outputs": [],
   "source": [
    "# get necessary libs\n",
    "import pandas\n",
    "from passport.data import passport_dataframe"
   ]
  },
  {
   "cell_type": "code",
   "execution_count": null,
   "id": "44aeddbf-a9ad-495c-b36e-b7a2c99e0ae2",
   "metadata": {},
   "outputs": [],
   "source": [
    "# get passport data (note: can also use a local file path)\n",
    "ppt_df = passport_dataframe(\"passportindex_2023\")\n",
    "\n",
    "# make sure type is DataFrame\n",
    "assert isinstance(ppt_df, pandas.DataFrame)"
   ]
  },
  {
   "cell_type": "code",
   "execution_count": null,
   "id": "ad3f18a5-cda2-4de9-b9fb-11306cce92af",
   "metadata": {
    "scrolled": true
   },
   "outputs": [],
   "source": [
    "# check first 5 results\n",
    "ppt_df.head()"
   ]
  },
  {
   "cell_type": "markdown",
   "id": "eae11616-2fc0-4d6b-a69a-052d23fac787",
   "metadata": {},
   "source": [
    "## Initial Dataset Exploration\n",
    "Here we will begin to look at what is the nature of the *dataset* and what information is available."
   ]
  },
  {
   "cell_type": "code",
   "execution_count": null,
   "id": "e8a343ef-c454-4065-8436-9b50ccba35ef",
   "metadata": {},
   "outputs": [],
   "source": [
    "# check all countries available\n",
    "ppt_df.set_index(\"Passport\").columns.values"
   ]
  },
  {
   "cell_type": "markdown",
   "id": "96e21603-2219-49bf-aa20-44a19d6a7c4e",
   "metadata": {},
   "source": [
    "## Data Subset: USA Passport \n",
    "Here we will begin to select a specific country to *investigate* their passport options ..."
   ]
  },
  {
   "cell_type": "code",
   "execution_count": null,
   "id": "e9b2a406-fdde-410b-b935-f71405a96514",
   "metadata": {},
   "outputs": [],
   "source": [
    "# show only visa requirements for US\n",
    "usa_visa_reqs = ppt_df[ppt_df[\"Passport\"] == \"United States\"].set_index(\"Passport\")\n",
    "usa_visa_reqs"
   ]
  },
  {
   "cell_type": "code",
   "execution_count": null,
   "id": "113579fb-fd8e-444f-9516-4f8675968edd",
   "metadata": {},
   "outputs": [],
   "source": [
    "# now find all countries that do NOT require visa for US passport (lots of transposing ...)\n",
    "no_visa_required_usa = usa_visa_reqs.T[usa_visa_reqs.T[\"United States\"] != \"visa required\"].T\n",
    "no_visa_required_usa"
   ]
  },
  {
   "cell_type": "code",
   "execution_count": null,
   "id": "9a1eb4d6-921e-4e88-9cf1-c27367ce1e93",
   "metadata": {},
   "outputs": [],
   "source": [
    "# just get the names of the countries that don't require visas\n",
    "no_visa_required_usa.columns.values"
   ]
  }
 ],
 "metadata": {
  "kernelspec": {
   "display_name": "Python 3 (ipykernel)",
   "language": "python",
   "name": "python3"
  },
  "language_info": {
   "codemirror_mode": {
    "name": "ipython",
    "version": 3
   },
   "file_extension": ".py",
   "mimetype": "text/x-python",
   "name": "python",
   "nbconvert_exporter": "python",
   "pygments_lexer": "ipython3",
   "version": "3.10.11"
  }
 },
 "nbformat": 4,
 "nbformat_minor": 5
}
